{
 "cells": [
  {
   "cell_type": "markdown",
   "metadata": {},
   "source": [
    "# One-Sample z-test - Lab\n",
    "\n",
    "## Introduction\n",
    "In this lab you'll perform a few quick tests to help you better understand how hypothesis testing works.\n",
    "\n",
    "## Objectives\n",
    "You will be able to:\n",
    "* Understand and explain use cases for a one-sample z-test\n",
    "* Set up null and alternative hypotheses\n",
    "* Calculate z-statistic using z-tables and CDF functions\n",
    "* Calculate and interpret p-value for significance of results\n",
    "\n",
    "## Exercise 1\n",
    "A fast food chain claims that the mean time to order food at their restaurants is 60 seconds, with a standard deviation of 30 seconds. You decide to put this claim to the test and go to one of the restaurants to observe actual waiting times. You take a sample of 36 customers and find that the mean order time was 75 seconds. Does this finding prove enough evidence to contradict the fast food chain's claim of fast service?\n",
    "\n",
    "Follow the 5 steps shown in previous lesson and use $\\alpha$ = 0.05. "
   ]
  },
  {
   "cell_type": "code",
   "execution_count": 6,
   "metadata": {},
   "outputs": [],
   "source": [
    "# State your null and alternative hypotheses\n",
    "# H_null is that there is no difference between the mean of your sample waiting times at the restaurant\n",
    "# and the restaurant's claimed waiting times\n",
    "# H_alternative is that the waiting times of your sample are greater than the "
   ]
  },
  {
   "cell_type": "code",
   "execution_count": 6,
   "metadata": {},
   "outputs": [
    {
     "name": "stdout",
     "output_type": "stream",
     "text": [
      "p = 0.0013498980316301035, z = 3.0\n"
     ]
    }
   ],
   "source": [
    "# Your solution here\n",
    "import scipy.stats as stats\n",
    "z_score = (75-60)/(30/36**0.5)\n",
    "p_value = 1 - stats.norm.cdf(z_score)\n",
    "print(f\"p = {p_value}, z = {z_score}\")\n",
    "# (p = 0.0013498980316301035, z = 3.0)"
   ]
  },
  {
   "cell_type": "code",
   "execution_count": 7,
   "metadata": {},
   "outputs": [],
   "source": [
    "# Interpret the results in terms of the p-value\n",
    "# We can reject the null hypothesis and say that the mean waiting time to order food is larger\n",
    "# than what the restaurant claims\n"
   ]
  },
  {
   "cell_type": "markdown",
   "metadata": {},
   "source": [
    "## Exercise 2\n",
    "\n",
    "25 students complete a preparation program for taking the SAT test.  Here are the SAT scores from the 25 students who completed  program:\n",
    "\n",
    "``\n",
    "434 694 457 534 720 400 484 478 610 641 425 636 454 \n",
    "514 563 370 499 640 501 625 612 471 598 509 531\n",
    "``\n",
    "\n",
    "We know that the population average for SAT scores is 500 with a standard deviation of 100.\n",
    "\n",
    "Are our 25 students’ SAT scores significantly higher than the population's mean score? \n",
    "\n",
    "*Note that the SAT preparation program claims that it will increase (and not decrease) the SAT score.  So, you can conduct a one-directional test. (alpha = .05).*"
   ]
  },
  {
   "cell_type": "code",
   "execution_count": null,
   "metadata": {},
   "outputs": [],
   "source": [
    "# State your hypotheses \n",
    "# Null Hypothesis = The SAT scores of students who completed an SAT prep program are not significantly\n",
    "# higher than the general population\n",
    "# Alternative Hypothesis = The SAT scores of students who completed an SAT prep program are significantly\n",
    "# higher than the general population"
   ]
  },
  {
   "cell_type": "code",
   "execution_count": 17,
   "metadata": {},
   "outputs": [
    {
     "name": "stdout",
     "output_type": "stream",
     "text": [
      "p = 0.03593031911292577, z = 1.8\n"
     ]
    }
   ],
   "source": [
    "# Give your solution here \n",
    "import numpy as np\n",
    "sat_scores = [434, 694, 457, 534, 720, 400, 484, 478, 610, 641, 425, 636, 454,\n",
    "              514, 563, 370, 499, 640, 501, 625, 612, 471, 598, 509, 531]\n",
    "x_bar = np.mean(sat_scores)\n",
    "std = 100/len(sat_scores)**0.5\n",
    "\n",
    "z_score = (x_bar - 500)/std\n",
    "p_value = 1 - stats.norm.cdf(z_score)\n",
    "print(f\"p = {p_value}, z = {z_score}\")\n",
    "# p = 0.03593031911292577, z = 1.8"
   ]
  },
  {
   "cell_type": "code",
   "execution_count": 20,
   "metadata": {},
   "outputs": [],
   "source": [
    "# Interpret the results in terms of the p-value\n",
    "# Since the p-value is less than 0.05 (alpha), we can reject the null hypothesis and claim that\n",
    "# the scores of students who completed the SAT prep are higher than the general population"
   ]
  },
  {
   "cell_type": "markdown",
   "metadata": {},
   "source": [
    "## Summary\n",
    "\n",
    "In this lesson, you conducted a couple of simple tests comparing sample and population means, in an attempt to reject our null hypotheses. This provides you with a strong foundation to move ahead with more advanced tests and approaches later on."
   ]
  }
 ],
 "metadata": {
  "kernelspec": {
   "display_name": "Python 3",
   "language": "python",
   "name": "python3"
  },
  "language_info": {
   "codemirror_mode": {
    "name": "ipython",
    "version": 3
   },
   "file_extension": ".py",
   "mimetype": "text/x-python",
   "name": "python",
   "nbconvert_exporter": "python",
   "pygments_lexer": "ipython3",
   "version": "3.6.9"
  }
 },
 "nbformat": 4,
 "nbformat_minor": 2
}
